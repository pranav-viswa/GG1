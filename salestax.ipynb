{
  "nbformat": 4,
  "nbformat_minor": 0,
  "metadata": {
    "colab": {
      "name": "salestax.ipynb",
      "provenance": [],
      "collapsed_sections": [],
      "authorship_tag": "ABX9TyN2UJDkQfsFJXPZG1zPt07G",
      "include_colab_link": true
    },
    "kernelspec": {
      "name": "python3",
      "display_name": "Python 3"
    },
    "language_info": {
      "name": "python"
    }
  },
  "cells": [
    {
      "cell_type": "markdown",
      "metadata": {
        "id": "view-in-github",
        "colab_type": "text"
      },
      "source": [
        "<a href=\"https://colab.research.google.com/github/pranav-viswa/GG1/blob/main/salestax.ipynb\" target=\"_parent\"><img src=\"https://colab.research.google.com/assets/colab-badge.svg\" alt=\"Open In Colab\"/></a>"
      ]
    },
    {
      "cell_type": "code",
      "execution_count": null,
      "metadata": {
        "id": "rEHuUzieNZ_Q"
      },
      "outputs": [],
      "source": [
        "from math import ceil"
      ]
    },
    {
      "cell_type": "code",
      "source": [
        "itemlist=['1 imported box of chocolates at 10.00','1 imported bottle of perfume at 47.50']"
      ],
      "metadata": {
        "id": "5j3NuEphN-wp"
      },
      "execution_count": 2,
      "outputs": []
    },
    {
      "cell_type": "code",
      "source": [
        "from math import ceil\n",
        "def sales_tax(itemlist):\n",
        "    \n",
        "    excemption = ['books', 'food', 'meds','chocolates','chocolate','chocolate bar','pills','book','book']\n",
        "    \n",
        "    \n",
        "    final_price =[]\n",
        "    old_sum = 0\n",
        "    new_sum = 0\n",
        "    rnd = 20\n",
        "    \n",
        "    for items in itemlist:\n",
        "        templist = items.split()\n",
        "        \n",
        "        templist = [x.replace(' ','') for x in templist]\n",
        "        \n",
        "        \n",
        "        exemptFlag = False\n",
        "        \n",
        "        for item in templist:\n",
        "            if item in excemption:\n",
        "                exemptFlag = True\n",
        "                \n",
        "        \n",
        "        if exemptFlag:\n",
        "            old_sum += float(templist[-1])\n",
        "            priceOfOne = float(templist[-1])/float(templist[0])\n",
        "            \n",
        "            newPrice = (float(templist[-1]) * 0.05)+float(templist[-1])\n",
        "            \n",
        "            newPrice = newPrice * float(templist[0])\n",
        "            newPrice = ceil(round(newPrice, 2) * rnd) / rnd\n",
        "            new_sum += newPrice\n",
        "            tempstr = ' '.join(templist[:-1])\n",
        "            print( tempstr+' ' + str(newPrice))\n",
        "            final_price.append(newPrice)\n",
        "        else:\n",
        "            if 'imported' in templist:\n",
        "                old_sum += float(templist[-1])\n",
        "                priceOfOne = float(templist[-1])/float(templist[0])\n",
        "                \n",
        "                newPrice = (float(priceOfOne) * 0.15)+float(priceOfOne)\n",
        "                \n",
        "                newPrice = newPrice * float(templist[0])\n",
        "                new_sum += newPrice\n",
        "                newPrice = ceil(round(newPrice, 2) * rnd) / rnd\n",
        "                tempstr = ' '.join(templist[:-1])\n",
        "                print( tempstr+' ' + str(newPrice))\n",
        "                final_price.append(newPrice)\n",
        "            else:\n",
        "                old_sum += float(templist[-1])\n",
        "                priceOfOne = float(templist[-1])/float(templist[0])\n",
        "                \n",
        "                newPrice = (float(priceOfOne) * 0.10)+float(templist[-1])\n",
        "                \n",
        "                newPrice = newPrice * float(templist[0])\n",
        "                new_sum += newPrice\n",
        "                newPrice = ceil(round(newPrice, 2) * rnd) / rnd\n",
        "                tempstr = ' '.join(templist[:-1])\n",
        "                print( tempstr+' ' + str(newPrice))\n",
        "                final_price.append(newPrice)\n",
        "                \n",
        "                \n",
        "            \n",
        "    \n",
        "         \n",
        "  \n",
        "    print('Sales Tax :',round((ceil(round(new_sum, 2) * rnd) / rnd)-old_sum,2)) \n",
        "    print('Total :',ceil(round(new_sum, 2) * rnd) / rnd)   \n",
        "    \n",
        "           "
      ],
      "metadata": {
        "id": "402WX0s26qjb"
      },
      "execution_count": 4,
      "outputs": []
    },
    {
      "cell_type": "code",
      "source": [
        "sales_tax(itemlist)"
      ],
      "metadata": {
        "colab": {
          "base_uri": "https://localhost:8080/"
        },
        "id": "YgITfpB4-Vqv",
        "outputId": "46ed336a-9087-4a83-fbd8-3c0b3e30e246"
      },
      "execution_count": 6,
      "outputs": [
        {
          "output_type": "stream",
          "name": "stdout",
          "text": [
            "1 imported box of chocolates at 10.5\n",
            "1 imported bottle of perfume at 54.65\n",
            "Sales Tax : 7.65\n",
            "Total : 65.15\n"
          ]
        }
      ]
    }
  ]
}